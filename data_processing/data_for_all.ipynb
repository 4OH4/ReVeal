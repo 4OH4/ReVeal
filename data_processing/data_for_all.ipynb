{
 "cells": [
  {
   "cell_type": "code",
   "execution_count": null,
   "metadata": {},
   "outputs": [],
   "source": [
    "import gensim\n",
    "import os\n",
    "import argparse\n",
    "import subprocess\n",
    "import numpy as np\n",
    "from gensim.models import Word2Vec\n",
    "import nltk\n",
    "import csv\n",
    "import json\n",
    "\n",
    "type_map = {\n",
    "    'CallExpression': 1, 'InclusiveOrExpression': 2, 'ShiftExpression': 3, 'IdentifierDeclStatement': 4,\n",
    "    'CompoundStatement': 5, 'IdentifierDecl': 6, 'Condition': 7, 'ArgumentList': 8, 'Sizeof': 9,\n",
    "    'AdditiveExpression': 10, 'BitAndExpression': 11, 'CFGExitNode': 12, 'SizeofOperand': 13, 'AndExpression': 14,\n",
    "    'Decl': 15, 'Label': 16, 'Argument': 17, 'Function': 18, 'CastExpression': 19, 'IdentifierDeclType': 20,\n",
    "    'PtrMemberAccess': 21, 'PostIncDecOperationExpression': 22, 'Identifier': 23, 'GotoStatement': 24,\n",
    "    'UnaryExpression': 25, 'DeclStmt': 26, 'ClassDefStatement': 27, 'FunctionDef': 28, 'File': 29,\n",
    "    'ParameterType': 30, 'RelationalExpression': 31, 'SwitchStatement': 32, 'ExpressionStatement': 33,\n",
    "    'CFGEntryNode': 34, 'MultiplicativeExpression': 35, 'Expression': 36, 'ConditionalExpression': 37,\n",
    "    'MemberAccess': 38, 'ReturnType': 39, 'UnaryOperator': 40, 'BreakStatement': 41, 'CastTarget': 42,\n",
    "    'ElseStatement': 43, 'SizeofExpression': 44, 'ClassDef': 45, 'DoStatement': 46, 'Symbol': 47,\n",
    "    'ExclusiveOrExpression': 48, 'Callee': 49, 'ForStatement': 50, 'InitializerList': 51, 'WhileStatement': 52,\n",
    "    'Statement': 53, 'ContinueStatement': 54, 'PrimaryExpression': 55, 'ParameterList': 56, 'EqualityExpression': 57,\n",
    "    'Parameter': 58, 'InfiniteForNode': 59, 'IncDec': 60, 'ArrayIndexing': 61, 'CFGErrorNode': 62, 'IfStatement': 63,\n",
    "    'ForInit': 64, 'UnaryOperationExpression': 65, 'AssignmentExpression': 66, 'ReturnStatement': 67,\n",
    "    'OrExpression': 68\n",
    "}\n",
    "\n",
    "type_one_hot = np.eye(len(type_map))\n",
    "\n",
    "edgeType = {\n",
    "    # 'IS_AST_PARENT': 1,\n",
    "    # 'IS_CLASS_OF': 2,\n",
    "    # 'DEF': 4, # Data Flow\n",
    "    # 'USE': 5, # Data Flow\n",
    "    # 'REACHES': 6, # Data Flow\n",
    "    'FLOWS_TO': 3, # Control Flow\n",
    "    'CONTROLS': 7, # Control Dependency edge\n",
    "    # 'DECLARES': 8,\n",
    "    # 'DOM': 9,\n",
    "    # 'POST_DOM': 10,\n",
    "    # 'IS_FUNCTION_OF_AST': 11,\n",
    "    # 'IS_FUNCTION_OF_CFG': 12\n",
    "}\n"
   ]
  }
 ],
 "metadata": {
  "kernelspec": {
   "display_name": "Python 3",
   "language": "python",
   "name": "python3"
  },
  "language_info": {
   "codemirror_mode": {
    "name": "ipython",
    "version": 3
   },
   "file_extension": ".py",
   "mimetype": "text/x-python",
   "name": "python",
   "nbconvert_exporter": "python",
   "pygments_lexer": "ipython3",
   "version": "3.6.9"
  }
 },
 "nbformat": 4,
 "nbformat_minor": 2
}
